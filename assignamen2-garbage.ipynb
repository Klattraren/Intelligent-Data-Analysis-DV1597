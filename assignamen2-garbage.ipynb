{
 "cells": [
  {
   "cell_type": "code",
   "execution_count": null,
   "metadata": {},
   "outputs": [],
   "source": [
    "#Removing Liechtenstein because it has 18% Nan values in the deaths column\n",
    "new_cases_df = new_cases_df[new_cases_df[\"countriesAndTerritories\"] != \"Liechtenstein\"]\n",
    "print(new_cases_df.groupby('countriesAndTerritories').count())\n"
   ]
  },
  {
   "cell_type": "code",
   "execution_count": null,
   "metadata": {},
   "outputs": [],
   "source": [
    "\n",
    "belgien = new_cases_df[new_cases_df[\"countriesAndTerritories\"] == \"Belgium\"][\"deaths\"]\n",
    "frequency = belgien.value_counts()\n",
    "print(frequency)\n",
    "max_value_key = frequency.idxmax()\n",
    "print(max_value_key)"
   ]
  },
  {
   "cell_type": "code",
   "execution_count": null,
   "metadata": {},
   "outputs": [],
   "source": [
    "# find_nan = new_case_df[new_cases_df.isnull()==True]\n",
    "# Remove rows with NaN values\n",
    "\n",
    "\n",
    "\n",
    "# print(new_cases_df.groupby('countriesAndTerritories').count())\n",
    "# print(new_cases_df[new_cases_df['deaths'].isna()].groupby('countriesAndTerritories').count())\n",
    "# print(new_cases_df[['countriesAndTerriztories', 'popData2020']].count())\n",
    "\n",
    "# Store the population per country in a new variable\n",
    "# print(population_per_country.keys())\n",
    "# belgien = new_cases_df[new_cases_df[\"countriesAndTerritories\"] == \"Belgium\"]\n",
    "# belgien[belgien.isna().any(axis=1)]\n",
    "# dateRep\tday\tmonth\tyear\tcases\tdeaths\tcountriesAndTerritories\tgeoId\tcountryterritoryCode\tpopData2020\tcontinentExp# "
   ]
  },
  {
   "cell_type": "code",
   "execution_count": null,
   "metadata": {},
   "outputs": [],
   "source": [
    "# removing nan values from deaths column by replacing them with the most frequent value\n",
    "all_countries = new_cases_df[\"countriesAndTerritories\"].unique()\n",
    "\n",
    "print(\"Number of missing values before: \",new_cases_df[\"deaths\"].isna().sum())\n",
    "\n",
    "for country in all_countries:\n",
    "    deaths = new_cases_df[new_cases_df[\"countriesAndTerritories\"] == country][\"deaths\"]\n",
    "    frequency = deaths.value_counts().idxmax()\n",
    "    new_cases_df.loc[new_cases_df[\"countriesAndTerritories\"] == country, \"deaths\"] = new_cases_df.loc[new_cases_df[\"countriesAndTerritories\"] == country, \"deaths\"].fillna(frequency)\n",
    "\n",
    "print(\"Number of missing values after: \",new_cases_df[\"deaths\"].isna().sum())"
   ]
  },
  {
   "cell_type": "code",
   "execution_count": null,
   "metadata": {},
   "outputs": [],
   "source": [
    "#Removing Liechtenstein because it has 18% Nan values in the deaths column\n",
    "new_cases_df = new_cases_df[new_cases_df[\"countriesAndTerritories\"] != \"Liechtenstein\"]\n",
    "print(new_cases_df.groupby('countriesAndTerritories').count())\n"
   ]
  }
 ],
 "metadata": {
  "language_info": {
   "name": "python"
  },
  "orig_nbformat": 4
 },
 "nbformat": 4,
 "nbformat_minor": 2
}
